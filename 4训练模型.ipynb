{
  "nbformat": 4,
  "nbformat_minor": 0,
  "metadata": {
    "colab": {
      "name": "4训练模型.ipynb",
      "version": "0.3.2",
      "provenance": [],
      "collapsed_sections": [
        "_WbRYX-eOPkw",
        "taO-1CFsRmD0",
        "dQ95cXJMTWrk",
        "hlKV8SqK2l-1",
        "ybeXQ04r2rWK"
      ],
      "include_colab_link": true
    },
    "kernelspec": {
      "name": "python3",
      "display_name": "Python 3"
    }
  },
  "cells": [
    {
      "cell_type": "markdown",
      "metadata": {
        "id": "view-in-github",
        "colab_type": "text"
      },
      "source": [
        "<a href=\"https://colab.research.google.com/github/824024445/Machine-learning-notes/blob/master/4%E8%AE%AD%E7%BB%83%E6%A8%A1%E5%9E%8B.ipynb\" target=\"_parent\"><img src=\"https://colab.research.google.com/assets/colab-badge.svg\" alt=\"Open In Colab\"/></a>"
      ]
    },
    {
      "cell_type": "markdown",
      "metadata": {
        "id": "MDWWr_erzb4h",
        "colab_type": "text"
      },
      "source": [
        "# 本章内容\n",
        "> 第一步  \n",
        "将以一个简单的线性回归模型为例，讨论两种不同的训练方法来得到模型的最优解\n",
        "- 1.直接在封闭方程上求根\n",
        "- 2.迭代，梯度下降（GD）的方法  \n",
        "\n",
        "> 第二步  \n",
        "研究更复杂的模型:多项式回归，**可以拟合非线性数据集**。由于参数多，多以容易出现过拟合，所以本章**还会介绍如何判断是否过拟合**，并介绍几种正则化方法减少过拟合。\n",
        "\n",
        "> 第三步  \n",
        "介绍两种常用的分类模型：Logistic回归和Softmax回归"
      ]
    },
    {
      "cell_type": "markdown",
      "metadata": {
        "id": "_WbRYX-eOPkw",
        "colab_type": "text"
      },
      "source": [
        "# 一、线性回归模型为例\n",
        "> 写在前面，不管是以封闭方程求解，还是通过梯度下降求解。都只是求解的方式而已。不全部封闭方程求解只是为了节省资源加快速度。  \n",
        "LinearRegression预测器使用封闭求解。SCDRegressor预测器使用梯度下降求解。"
      ]
    },
    {
      "cell_type": "markdown",
      "metadata": {
        "id": "MdC3h4VaTxR8",
        "colab_type": "text"
      },
      "source": [
        "## 1.1 在封闭方程上求根\n"
      ]
    },
    {
      "cell_type": "markdown",
      "metadata": {
        "id": "5Kf7nmKMTPpu",
        "colab_type": "text"
      },
      "source": [
        "### 1.1.1 自己实现"
      ]
    },
    {
      "cell_type": "code",
      "metadata": {
        "id": "HsEWK9jqYPxd",
        "colab_type": "code",
        "outputId": "87e5314c-314c-40a8-c40a-d913be5e6282",
        "colab": {
          "base_uri": "https://localhost:8080/"
        }
      },
      "source": [
        "import numpy as np\n",
        "import matplotlib.pyplot as plt\n",
        "\n",
        "X = 2*np.random.rand(100, 1) # rand是生成平均分布的浮点数\n",
        "y = 4 + 3*X + np.random.randn(100, 1) # randn是生成正态分布的浮点数\n",
        "\n",
        "plt.scatter(X, y)\n",
        "plt.show()\n"
      ],
      "execution_count": 0,
      "outputs": [
        {
          "output_type": "display_data",
          "data": {
            "image/png": "[encoded data removed]",
            "text/plain": [
              "<Figure size 432x288 with 1 Axes>"
            ]
          },
          "metadata": {
            "tags": []
          }
        }
      ]
    },
    {
      "cell_type": "markdown",
      "metadata": {
        "id": "MtTyzwuuNnBb",
        "colab_type": "text"
      },
      "source": [
        "> f(x) = w1x1 + w2x2 + w3x3 + ... + wdxd + b  \n",
        "向量w* = (w1, w2, w3, ... , wd, b)   \n",
        "线性模型就是求均方差最小的那条线的w*  \n",
        "省略西瓜书上的推导过程，结果为：w* = (X<sup>T</sup>X)<sup>-1</sup>X<sup>T</sup>y  \n",
        "通过Numpy 的线性代数模块（`np.linalg`）中的`inv()`函数来计算矩阵的逆，以及`dot()`方法来计算矩阵的乘法。"
      ]
    },
    {
      "cell_type": "code",
      "metadata": {
        "id": "YwmxMcPgPI1J",
        "colab_type": "code",
        "outputId": "4ec49801-6e0b-40fc-a38d-86a3014a7dd4",
        "colab": {
          "base_uri": "https://localhost:8080/"
        }
      },
      "source": [
        "X_b = np.c_[np.ones((100, 1)), X]\n",
        "theta_best = np.linalg.inv(X_b.T.dot(X_b)).dot(X_b.T).dot(y)\n",
        "theta_best"
      ],
      "execution_count": 0,
      "outputs": [
        {
          "output_type": "execute_result",
          "data": {
            "text/plain": [
              "array([[4.50080561],\n",
              "       [2.66101173]])"
            ]
          },
          "metadata": {
            "tags": []
          },
          "execution_count": 3
        }
      ]
    },
    {
      "cell_type": "markdown",
      "metadata": {
        "id": "dZyqVADFSsbB",
        "colab_type": "text"
      },
      "source": [
        "求得的参数，第一个是截距的，第二个是参数w。 取决于X的组成，如果1在第一列，那么截距就是第一个参数，如果1在最后一列，那么截距就是最后一个。"
      ]
    },
    {
      "cell_type": "markdown",
      "metadata": {
        "id": "vNimI90xPiTi",
        "colab_type": "text"
      },
      "source": [
        "进行预测"
      ]
    },
    {
      "cell_type": "code",
      "metadata": {
        "id": "lsp__W7dPjuO",
        "colab_type": "code",
        "outputId": "dc2c4b7b-0d09-4470-8a97-84b4e5248906",
        "colab": {
          "base_uri": "https://localhost:8080/"
        }
      },
      "source": [
        "X_new = np.array([[0], [2]])\n",
        "# X_new_b = np.c_[X_new, np.ones((2, 1))]\n",
        "X_new_b = np.c_[np.ones((2, 1)), X_new]\n",
        "\n",
        "y_predict = X_new_b.dot(theta_best)\n",
        "y_predict\n"
      ],
      "execution_count": 0,
      "outputs": [
        {
          "output_type": "execute_result",
          "data": {
            "text/plain": [
              "array([[4.50080561],\n",
              "       [9.82282906]])"
            ]
          },
          "metadata": {
            "tags": []
          },
          "execution_count": 4
        }
      ]
    },
    {
      "cell_type": "markdown",
      "metadata": {
        "id": "EtilYXrnQ0Gz",
        "colab_type": "text"
      },
      "source": [
        "画出图形"
      ]
    },
    {
      "cell_type": "code",
      "metadata": {
        "id": "eQJr5yEJQ1o8",
        "colab_type": "code",
        "outputId": "9b77f848-c074-452c-fc46-9eea5486a894",
        "colab": {
          "base_uri": "https://localhost:8080/"
        }
      },
      "source": [
        "plt.plot(X_new, y_predict, \"r-\")\n",
        "plt.plot(X, y, \"b.\")\n",
        "plt.axis([0,2,0,15])\n",
        "plt.show()"
      ],
      "execution_count": 0,
      "outputs": [
        {
          "output_type": "display_data",
          "data": {
            "image/png": "[encoded data removed]",
            "text/plain": [
              "<Figure size 432x288 with 1 Axes>"
            ]
          },
          "metadata": {
            "tags": []
          }
        }
      ]
    },
    {
      "cell_type": "markdown",
      "metadata": {
        "id": "taO-1CFsRmD0",
        "colab_type": "text"
      },
      "source": [
        "### 1.1.2使用sklearn实现相同效果"
      ]
    },
    {
      "cell_type": "code",
      "metadata": {
        "id": "mqNKj-jpRr9d",
        "colab_type": "code",
        "outputId": "5ed88277-31b3-48f3-d134-66458a26c18f",
        "colab": {
          "base_uri": "https://localhost:8080/"
        }
      },
      "source": [
        "from sklearn.linear_model import LinearRegression\n",
        "\n",
        "lin_reg = LinearRegression()\n",
        "\n",
        "lin_reg.fit(X, y)\n",
        "y_predict_sk = lin_reg.predict(X_new)\n",
        "print(lin_reg.intercept_, lin_reg.coef_)\n",
        "y_predict_sk"
      ],
      "execution_count": 0,
      "outputs": [
        {
          "output_type": "stream",
          "text": [
            "[4.50080561] [[2.66101173]]\n"
          ],
          "name": "stdout"
        },
        {
          "output_type": "execute_result",
          "data": {
            "text/plain": [
              "array([[4.50080561],\n",
              "       [9.82282906]])"
            ]
          },
          "metadata": {
            "tags": []
          },
          "execution_count": 6
        }
      ]
    },
    {
      "cell_type": "markdown",
      "metadata": {
        "id": "dQ95cXJMTWrk",
        "colab_type": "text"
      },
      "source": [
        "## 1.2 梯度下降\n",
        "封闭求解的话，在内存足够时没有问题。在特征个数非常多，训练实例非常多，内存无法满足要求的时候，就可以使用梯度下降的方法了  \n",
        "梯度下降的整体思路是通过的迭代来逐渐调整参数使得损失函数达到最小值  \n",
        "> 损失函数对某一特征求偏导"
      ]
    },
    {
      "cell_type": "markdown",
      "metadata": {
        "id": "GgZNOXQpUjAv",
        "colab_type": "text"
      },
      "source": [
        "### 1.2.1 批量梯度下降\n",
        "对每一个w计算损失函数的梯度  \n",
        "对于一个数千数量特征的线性回归模型，批量梯度下降要比使用封闭方程快的多"
      ]
    },
    {
      "cell_type": "code",
      "metadata": {
        "id": "9GjSogYxfSDN",
        "colab_type": "code",
        "outputId": "7db4d524-acef-4cb3-9adf-27679929eb09",
        "colab": {
          "base_uri": "https://localhost:8080/"
        }
      },
      "source": [
        "eta = 0.1 # 学习率\n",
        "n_iterations = 1000 # 迭代次数\n",
        "m = 100\n",
        "theta = np.random.randn(2,1) # 随机初始值\n",
        "for iteration in range(n_iterations):\n",
        "  gradients = 2/m * X_b.T.dot(X_b.dot(theta) - y)\n",
        "  theta = theta - eta * gradients\n",
        "  \n",
        "theta"
      ],
      "execution_count": 0,
      "outputs": [
        {
          "output_type": "execute_result",
          "data": {
            "text/plain": [
              "array([[4.50080561],\n",
              "       [2.66101173]])"
            ]
          },
          "metadata": {
            "tags": []
          },
          "execution_count": 7
        }
      ]
    },
    {
      "cell_type": "markdown",
      "metadata": {
        "id": "ORL0wdree7I5",
        "colab_type": "text"
      },
      "source": [
        "### 1.2.2 随机梯度下降\n",
        "批量下降每一次迭代都要用到整个训练集  \n",
        "随机梯度下降是：每次只对随机的一点求梯度，即随机选取一点，然后比较两者之间的梯度，顺坡往下。"
      ]
    },
    {
      "cell_type": "markdown",
      "metadata": {
        "id": "odQBPD3ie_A6",
        "colab_type": "text"
      },
      "source": [
        "### 1.2.3 小批量梯度下降\n",
        "小批量梯度下降就是介于批量梯度下降和随机梯度下降之间的一种方法。它使用一个随机的小型实例集来计算梯度。"
      ]
    },
    {
      "cell_type": "markdown",
      "metadata": {
        "id": "0sYuRV7sfDLO",
        "colab_type": "text"
      },
      "source": [
        "# 二、多项式回归\n",
        "如果数据不是直线呢？  \n",
        "多项式函数：形如f(x)=an·x^n+an-1·x^(n-1)+…+a2·x^2+a1·x+a0的函数，叫做多项式函数，它是由常数与自变量x经过有限次乘法与加法运算得到的。比如n=1时y=kx+b为一次函数，n=2时y=ax^2+bx+c为二次函数。\n",
        "\n",
        "多项式回归仍旧可以使用线性模型来拟合。\n",
        "线性模型的函数为：f(x) = w1x1 + w2x2 + w3x3 + ... + wdxd + b  \n",
        "比如我们现在有一个二次方程要被拟合：f(x) = 3x<sup>2</sup> + 4x + 5  \n",
        "对样本集进行加权，相当于把x2作为一个新的特征，在样本集中加入样本的平方这一项，方程变为：f = 3x1 + 4x2 + 5  \n",
        "原本的样本集的第一行为（a），那么对于对样本进行加权后的样本集的第一行为（a，a<sup>2</sup> ）"
      ]
    },
    {
      "cell_type": "markdown",
      "metadata": {
        "id": "hlKV8SqK2l-1",
        "colab_type": "text"
      },
      "source": [
        "## 2.1实现多项式回归线性预测"
      ]
    },
    {
      "cell_type": "markdown",
      "metadata": {
        "id": "30WHOu2-rr8C",
        "colab_type": "text"
      },
      "source": [
        "数据集的转换通过sklearn.preprocessing下的PolynomialFeatures转换器来进行。  \n",
        "其生成一个新的特征矩阵，该特征矩阵由特征的所有多项式组合组成，其度数小于或等于指定的度数。例如，如果输入样本是二维的并且形式为[a，b]，则2次多项式特征是[1，a，b，a ^ 2，ab，b ^ 2]。 "
      ]
    },
    {
      "cell_type": "code",
      "metadata": {
        "id": "JkPBcizJuvDW",
        "colab_type": "code",
        "outputId": "3c48053e-e90a-49d0-868a-9a4797bf44c3",
        "colab": {
          "base_uri": "https://localhost:8080/"
        }
      },
      "source": [
        "# 创建数据\n",
        "import numpy as np\n",
        "import matplotlib.pyplot as plt\n",
        "\n",
        "m = 100\n",
        "X = 6*np.random.rand(m, 1) - 3\n",
        "y = 0.5 * X**2 + X + 2 + np.random.randn(m, 1)\n",
        "\n",
        "plt.scatter(X, y)"
      ],
      "execution_count": 0,
      "outputs": [
        {
          "output_type": "execute_result",
          "data": {
            "text/plain": [
              "<matplotlib.collections.PathCollection at 0x7fbbada920f0>"
            ]
          },
          "metadata": {
            "tags": []
          },
          "execution_count": 8
        },
        {
          "output_type": "display_data",
          "data": {
            "image/png": "[encoded data removed]",
            "text/plain": [
              "<Figure size 432x288 with 1 Axes>"
            ]
          },
          "metadata": {
            "tags": []
          }
        }
      ]
    },
    {
      "cell_type": "code",
      "metadata": {
        "id": "q9PVEz0prj-G",
        "colab_type": "code",
        "outputId": "c775c178-4d49-4b82-b6fb-f78150ebff7a",
        "colab": {
          "base_uri": "https://localhost:8080/"
        }
      },
      "source": [
        "from sklearn.preprocessing import PolynomialFeatures\n",
        "\n",
        "poly_features = PolynomialFeatures(degree=2, include_bias=False)\n",
        "X_poly = poly_features.fit_transform(X)\n",
        "\n",
        "print(X[0], X_poly[0])"
      ],
      "execution_count": 0,
      "outputs": [
        {
          "output_type": "stream",
          "text": [
            "[-2.93291658] [-2.93291658  8.60199965]\n"
          ],
          "name": "stdout"
        }
      ]
    },
    {
      "cell_type": "markdown",
      "metadata": {
        "id": "ue0e0X941BmQ",
        "colab_type": "text"
      },
      "source": [
        "使用线性模型进行拟合"
      ]
    },
    {
      "cell_type": "code",
      "metadata": {
        "id": "Q6-hq-nx1BAZ",
        "colab_type": "code",
        "outputId": "ad0adc6a-6e31-4a1a-c22d-2a281e851a79",
        "colab": {
          "base_uri": "https://localhost:8080/"
        }
      },
      "source": [
        "from sklearn.linear_model import LinearRegression\n",
        "\n",
        "lin_reg = LinearRegression()\n",
        "lin_reg.fit(X_poly, y)\n",
        "lin_reg.intercept_, lin_reg.coef_\n"
      ],
      "execution_count": 0,
      "outputs": [
        {
          "output_type": "execute_result",
          "data": {
            "text/plain": [
              "(array([2.07476661]), array([[0.971435  , 0.50114459]]))"
            ]
          },
          "metadata": {
            "tags": []
          },
          "execution_count": 10
        }
      ]
    },
    {
      "cell_type": "markdown",
      "metadata": {
        "id": "M2icMIi61pMH",
        "colab_type": "text"
      },
      "source": [
        "预测函数即为：F(x) = 0.54826828x2 + 1.02646781x + 1.8894\n",
        "原始函数为：F(x) = 0.5x2 + x + 2 + 高斯噪声"
      ]
    },
    {
      "cell_type": "markdown",
      "metadata": {
        "id": "ybeXQ04r2rWK",
        "colab_type": "text"
      },
      "source": [
        "## 2.2学习曲线\n",
        "如果采用高阶多项式回归的话，拟合程度会更好。但是会非常用于出现过拟合。而如果只用线性模型的话又会欠拟合.  \n",
        "\n",
        "在实际数据中，我们不知道到底应该用几阶的，所以就需要判断模型到底是欠拟合还是过拟合。当然，我们可以通过交叉验证每一阶来选取性能好的。  \n",
        "  \n",
        " \n",
        "但是本节讲的是另外一种方法，判断模型是否过欠拟合的方法：学习曲线就是以训练规模为自变量，性能表现为因变量的函数。 下面自己来写一个学习曲线的函数"
      ]
    },
    {
      "cell_type": "code",
      "metadata": {
        "id": "HSQvMM2E4Thc",
        "colab_type": "code",
        "colab": {}
      },
      "source": [
        "from sklearn.metrics import mean_squared_error\n",
        "from sklearn.model_selection import train_test_split\n",
        "\n",
        "def plot_learning_curves(model, X, y):\n",
        "  X_train, X_val, y_train, y_val = train_test_split(X, y, test_size=0.2)\n",
        "  train_errors, val_errors = [], []\n",
        "  for m in range(1, len(X_train)):\n",
        "    model.fit(X_train[:m], y_train[:m])\n",
        "    y_train_predict = model.predict(X_train[:m])\n",
        "    y_val_predict = model.predict(X_val)\n",
        "    train_errors.append(mean_squared_error(y_train_predict, y_train[:m]))\n",
        "    val_errors.append(mean_squared_error(y_val_predict, y_val))\n",
        "  plt.plot(np.sqrt(train_errors), \"r-+\", linewidth=2, label=\"train\")\n",
        "  plt.plot(np.sqrt(val_errors), \"b-\", linewidth=3, label=\"val\")\n",
        "  plt.ylim([0, 3])\n",
        "  plt.legend()"
      ],
      "execution_count": 0,
      "outputs": []
    },
    {
      "cell_type": "code",
      "metadata": {
        "id": "IElqZRFs5Qnk",
        "colab_type": "code",
        "outputId": "57fa0b05-1e34-49b3-bd76-8dd5b9680c5f",
        "colab": {
          "base_uri": "https://localhost:8080/"
        }
      },
      "source": [
        "lin_reg = LinearRegression()\n",
        "plot_learning_curves(lin_reg, X, y)"
      ],
      "execution_count": 0,
      "outputs": [
        {
          "output_type": "display_data",
          "data": {
            "image/png": "[encoded data removed]",
            "text/plain": [
              "<Figure size 432x288 with 1 Axes>"
            ]
          },
          "metadata": {
            "tags": []
          }
        }
      ]
    },
    {
      "cell_type": "markdown",
      "metadata": {
        "id": "WoOlLFdt6fhn",
        "colab_type": "text"
      },
      "source": [
        "上面这个图典型的欠拟合。  \n",
        "红线是训练集的均方误差，蓝色线是测试集的均方误差。数据很小时，训练集拟合的很好，所以误差小，但是泛化性能差，所以预测及的误差大。随着数据量的增大，最终误差在高位地带稳定，这是典型的欠拟合表现。说明数据之间的关系不是线性的。\n",
        "> 也就是说，如果你的模型在训练集上是欠拟合的，那么添加再多的样本也是没有用的，应该换一个更好更复杂的模型。"
      ]
    },
    {
      "cell_type": "code",
      "metadata": {
        "id": "RthBrCaB7Qgl",
        "colab_type": "code",
        "outputId": "4e4cce53-e739-4bfb-b3e9-6d297d928fda",
        "colab": {
          "base_uri": "https://localhost:8080/"
        }
      },
      "source": [
        "from sklearn.pipeline import Pipeline\n",
        "\n",
        "polynomial_regression = Pipeline((\n",
        " (\"poly_features\", PolynomialFeatures(degree=10, include_bias=False)),\n",
        " (\"sgd_reg\", LinearRegression()),\n",
        "))\n",
        "\n",
        "plot_learning_curves(polynomial_regression, X, y)"
      ],
      "execution_count": 0,
      "outputs": [
        {
          "output_type": "display_data",
          "data": {
            "image/png": "[encoded data removed]",
            "text/plain": [
              "<Figure size 432x288 with 1 Axes>"
            ]
          },
          "metadata": {
            "tags": []
          }
        }
      ]
    },
    {
      "cell_type": "markdown",
      "metadata": {
        "id": "BlWu_iJZ88Oa",
        "colab_type": "text"
      },
      "source": [
        "过拟合的显著特点是：模型在训练集上的表现要比验证集上好得多。  \n",
        "没有过拟合：数据量增大到训练误差和验证误差相等。"
      ]
    },
    {
      "cell_type": "markdown",
      "metadata": {
        "id": "tR8eo0U--zAn",
        "colab_type": "text"
      },
      "source": [
        "## 2.3线性模型的正则化\n",
        "> 关于岭回归和lasso回归可以参考这篇文章https://www.cnblogs.com/Belter/p/8536939.html\n",
        "\n",
        "改善过拟合的好方法就是正则化这个模型，即限制它，模型有越少的自由度，就越难出现过拟合。  \n",
        "目标函数后面添加一个系数的“惩罚项”是正则化的常用方式，为了防止系数过大从而让模型变得复杂。  \n",
        "对于一个线性模型，实现正则化就是约束模型中参数的权重，下面介绍三种方法  \n",
        "- Ridge回归（岭回归）\n",
        "- Lasso回归\n",
        "- Elastic Net（弹性网络）\n"
      ]
    },
    {
      "cell_type": "markdown",
      "metadata": {
        "id": "PeDbakdLZgYp",
        "colab_type": "text"
      },
      "source": [
        "### 2.3.1 Ridge（岭）回归\n",
        "也成Tikhonov正则化，就是线性回归的正则化版。\n",
        "它跟线性回归的区别就在于：损失函数不一样，加上所有参数（不包括θ0）的平方和，即l2范数，此时叫做岭回归  \n",
        "加上所有参数（不包括θ0）的绝对值之和，即l1范数，此时叫做Lasso回归；   \n",
        "θ0是截距  \n",
        "> 其实正则就是为了压缩嘛，拿y=kx+b模型来说，如果模型的参数k太大，那么损失函数也会比较抖。参数越大，损失函数的正则化项就越大"
      ]
    },
    {
      "cell_type": "code",
      "metadata": {
        "id": "n3eKB4FiiOEA",
        "colab_type": "code",
        "outputId": "a5809d45-38a6-44dd-db4b-012bd3202977",
        "colab": {
          "base_uri": "https://localhost:8080/",
          "height": 35
        }
      },
      "source": [
        "# 使用封闭方程求解\n",
        "from sklearn.linear_model import Ridge\n",
        "\n",
        "ridge_reg = Ridge(alpha=1, solver=\"cholesky\")\n",
        "ridge_reg.fit(X, y)\n",
        "\n",
        "ridge_reg.predict([[1.5]])"
      ],
      "execution_count": 0,
      "outputs": [
        {
          "output_type": "execute_result",
          "data": {
            "text/plain": [
              "array([[5.17319563]])"
            ]
          },
          "metadata": {
            "tags": []
          },
          "execution_count": 14
        }
      ]
    },
    {
      "cell_type": "code",
      "metadata": {
        "id": "z34hX4jEjz17",
        "colab_type": "code",
        "outputId": "1b077391-6b91-49ad-eadd-8c278d03b5cb",
        "colab": {
          "base_uri": "https://localhost:8080/",
          "height": 35
        }
      },
      "source": [
        "# 使用随机梯度法求解\n",
        "\n",
        "from sklearn.linear_model import SGDRegressor\n",
        "\n",
        "sgd_reg = SGDRegressor(penalty=\"l2\") #penalty参数l2是指在损失函数上加上权重向量l2范数平方的一半\n",
        "sgd_reg.fit(X, y.ravel())  # ravel将多维数组转变为一维数组\n",
        "sgd_reg.predict([[1.5]])"
      ],
      "execution_count": 0,
      "outputs": [
        {
          "output_type": "execute_result",
          "data": {
            "text/plain": [
              "array([5.15736621])"
            ]
          },
          "metadata": {
            "tags": []
          },
          "execution_count": 15
        }
      ]
    },
    {
      "cell_type": "markdown",
      "metadata": {
        "id": "Xs-kEX-9qdVM",
        "colab_type": "text"
      },
      "source": [
        "### 2.3.2 Lasso回归\n",
        "另一种线性回归的正则化版本  \n",
        "损失函数加上所有参数（不包括θ0）的绝对值之和，即l1范数，此时叫做Lasso回归；"
      ]
    },
    {
      "cell_type": "code",
      "metadata": {
        "id": "C2Riju0ys-1O",
        "colab_type": "code",
        "outputId": "85512c87-6fa3-4380-9eaa-d41a659850eb",
        "colab": {
          "base_uri": "https://localhost:8080/",
          "height": 35
        }
      },
      "source": [
        "from sklearn.linear_model import Lasso\n",
        "\n",
        "lasso_reg = Lasso(alpha=0.1)\n",
        "lasso_reg.fit(X, y)\n",
        "\n",
        "lasso_reg.predict([[1.5]])"
      ],
      "execution_count": 0,
      "outputs": [
        {
          "output_type": "execute_result",
          "data": {
            "text/plain": [
              "array([5.1374329])"
            ]
          },
          "metadata": {
            "tags": []
          },
          "execution_count": 16
        }
      ]
    },
    {
      "cell_type": "markdown",
      "metadata": {
        "id": "-P0jaubVtUCj",
        "colab_type": "text"
      },
      "source": [
        "### 2.3.3弹性网络（ElasticNet）\n",
        "介于岭回归和Lasso回归之间，损失函数加上L1范数和L2范数的混合，可以控制混合率，混合率r=0是，就是岭回归。"
      ]
    },
    {
      "cell_type": "code",
      "metadata": {
        "id": "rRa7vuN4tur6",
        "colab_type": "code",
        "outputId": "92b33de6-41db-4477-87a9-9d09bf007d9a",
        "colab": {
          "base_uri": "https://localhost:8080/",
          "height": 35
        }
      },
      "source": [
        "from sklearn.linear_model import ElasticNet\n",
        "\n",
        "elastic_net = ElasticNet(alpha=0.1, l1_ratio=0.5)\n",
        "elastic_net.fit(X, y)\n",
        "elastic_net.predict([[1.5]])"
      ],
      "execution_count": 0,
      "outputs": [
        {
          "output_type": "execute_result",
          "data": {
            "text/plain": [
              "array([5.13637396])"
            ]
          },
          "metadata": {
            "tags": []
          },
          "execution_count": 17
        }
      ]
    },
    {
      "cell_type": "markdown",
      "metadata": {
        "id": "Fx-7dWm1t-yy",
        "colab_type": "text"
      },
      "source": [
        "### 2.3.4早期停止法（Ealy Stopping）\n",
        "对于迭代学习方法，有一种非常特殊的正则化方法。一旦验证误差达到最小值，就提早停止训练，这种正则方法叫做早期停止法"
      ]
    },
    {
      "cell_type": "markdown",
      "metadata": {
        "id": "BM8oMhZqvJ_A",
        "colab_type": "text"
      },
      "source": [
        "# 三、分类中的Logistic回归和Softmax回归\n",
        "以鸢尾花数据为例"
      ]
    },
    {
      "cell_type": "markdown",
      "metadata": {
        "id": "DkSYyL6TvSQa",
        "colab_type": "text"
      },
      "source": [
        "## 3.1逻辑回归 \n",
        "\n"
      ]
    },
    {
      "cell_type": "code",
      "metadata": {
        "id": "6cpDTnqEpRQY",
        "colab_type": "code",
        "colab": {}
      },
      "source": [
        "from sklearn import datasets\n",
        "\n",
        "iris = datasets.load_iris()\n",
        "X = iris[\"data\"][:, 3:] # petal width\n",
        "y = (iris[\"target\"] == 2).astype(np.int)"
      ],
      "execution_count": 0,
      "outputs": []
    },
    {
      "cell_type": "code",
      "metadata": {
        "id": "MW7l2FUTvRXM",
        "colab_type": "code",
        "outputId": "911634a9-9dd7-4d14-d399-ce94c0a94be0",
        "colab": {
          "base_uri": "https://localhost:8080/",
          "height": 72
        }
      },
      "source": [
        "from sklearn.linear_model import LogisticRegression\n",
        "\n",
        "log_reg = LogisticRegression()\n",
        "log_reg.fit(X, y)\n",
        "\n",
        "log_reg.predict([[1.7], [1.5]])"
      ],
      "execution_count": 0,
      "outputs": [
        {
          "output_type": "stream",
          "text": [
            "/usr/local/lib/python3.6/dist-packages/sklearn/linear_model/logistic.py:432: FutureWarning: Default solver will be changed to 'lbfgs' in 0.22. Specify a solver to silence this warning.\n",
            "  FutureWarning)\n"
          ],
          "name": "stderr"
        },
        {
          "output_type": "execute_result",
          "data": {
            "text/plain": [
              "array([1, 0])"
            ]
          },
          "metadata": {
            "tags": []
          },
          "execution_count": 23
        }
      ]
    },
    {
      "cell_type": "markdown",
      "metadata": {
        "id": "_Ss3RGHDwe-a",
        "colab_type": "text"
      },
      "source": [
        "## 3.2 Softmax回归\n",
        "Logistic 回归模型可以直接推广到支持多类别分类，不必组合和训练多个二分类器。  \n",
        "也称作多类别 Logistic 回归"
      ]
    },
    {
      "cell_type": "markdown",
      "metadata": {
        "id": "JKGd1DSdwwBA",
        "colab_type": "text"
      },
      "source": [
        "使用方法：将LogisticRregression的multi_class参数设置为“multinomial”来把它改变为 Softmax 回归。  \n",
        "还必须指定一个支持 Softmax 回归的求解器，例如“lbfgs”求解器  \n",
        "还默认使用L2正则化"
      ]
    },
    {
      "cell_type": "code",
      "metadata": {
        "id": "KNNGf04owq6x",
        "colab_type": "code",
        "outputId": "d4003837-d768-4f71-ab2b-0162dc95de19",
        "colab": {
          "base_uri": "https://localhost:8080/",
          "height": 108
        }
      },
      "source": [
        "X = iris[\"data\"][:, (2, 3)] # petal length, petal width\n",
        "y = iris[\"target\"]\n",
        "\n",
        "softmax_reg = LogisticRegression(multi_class=\"multinomial\",solver=\"lbfgs\", C=10)\n",
        "softmax_reg.fit(X, y)"
      ],
      "execution_count": 0,
      "outputs": [
        {
          "output_type": "execute_result",
          "data": {
            "text/plain": [
              "LogisticRegression(C=10, class_weight=None, dual=False, fit_intercept=True,\n",
              "                   intercept_scaling=1, l1_ratio=None, max_iter=100,\n",
              "                   multi_class='multinomial', n_jobs=None, penalty='l2',\n",
              "                   random_state=None, solver='lbfgs', tol=0.0001, verbose=0,\n",
              "                   warm_start=False)"
            ]
          },
          "metadata": {
            "tags": []
          },
          "execution_count": 24
        }
      ]
    },
    {
      "cell_type": "code",
      "metadata": {
        "id": "MOBri0COxChy",
        "colab_type": "code",
        "outputId": "eee75ca6-dd6d-49a7-c966-e223de8d1155",
        "colab": {
          "base_uri": "https://localhost:8080/",
          "height": 35
        }
      },
      "source": [
        "softmax_reg.predict([[5, 2]])"
      ],
      "execution_count": 0,
      "outputs": [
        {
          "output_type": "execute_result",
          "data": {
            "text/plain": [
              "array([2])"
            ]
          },
          "metadata": {
            "tags": []
          },
          "execution_count": 26
        }
      ]
    },
    {
      "cell_type": "code",
      "metadata": {
        "id": "g3GrovqVxIgb",
        "colab_type": "code",
        "outputId": "ea17089a-b949-4279-da88-ee55bb650779",
        "colab": {
          "base_uri": "https://localhost:8080/",
          "height": 35
        }
      },
      "source": [
        "softmax_reg.predict_proba([[5, 2]])"
      ],
      "execution_count": 0,
      "outputs": [
        {
          "output_type": "execute_result",
          "data": {
            "text/plain": [
              "array([[6.38014896e-07, 5.74929995e-02, 9.42506362e-01]])"
            ]
          },
          "metadata": {
            "tags": []
          },
          "execution_count": 27
        }
      ]
    }
  ]
}