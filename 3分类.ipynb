{
  "nbformat": 4,
  "nbformat_minor": 0,
  "metadata": {
    "colab": {
      "name": "3分类.ipynb",
      "version": "0.3.2",
      "provenance": [],
      "collapsed_sections": [],
      "include_colab_link": true
    },
    "kernelspec": {
      "name": "python3",
      "display_name": "Python 3"
    }
  },
  "cells": [
    {
      "cell_type": "markdown",
      "metadata": {
        "id": "view-in-github",
        "colab_type": "text"
      },
      "source": [
        "<a href=\"https://colab.research.google.com/github/824024445/Machine-learning-notes/blob/master/3%E5%88%86%E7%B1%BB.ipynb\" target=\"_parent\"><img src=\"https://colab.research.google.com/assets/colab-badge.svg\" alt=\"Open In Colab\"/></a>"
      ]
    },
    {
      "cell_type": "markdown",
      "metadata": {
        "id": "ojX2KrDOxOsV",
        "colab_type": "text"
      },
      "source": [
        "# 加载数据\n",
        "机器学习的初学者迟早会接触Minist这个数据集，sklearn提供很多辅助函数用于下载流行的数据集"
      ]
    },
    {
      "cell_type": "markdown",
      "metadata": {
        "id": "N-R0tat1Eh6N",
        "colab_type": "text"
      },
      "source": [
        "`fetch_mldata`出错修改方式  \n",
        "1. 下载文件https://github.com/amplab/datascience-sp14/raw/master/lab7/mldata/mnist-original.mat\n",
        "2. 创建一个文件夹：datasets/mldata,将下载好的mnist-original.mat文件放在这个文件夹之中。\n",
        "3. fetch_mldata('MNIST original', data_home=\"datasets\")，data_home参数即为从本地导入数据的地址。"
      ]
    },
    {
      "cell_type": "code",
      "metadata": {
        "id": "7VDubWWMlQwj",
        "colab_type": "code",
        "colab": {
          "base_uri": "https://localhost:8080/",
          "height": 291
        },
        "outputId": "e10225f3-d926-4226-ac0d-5bf1812f900b"
      },
      "source": [
        "from sklearn.datasets import fetch_mldata\n",
        "\n",
        "mnist = fetch_mldata('MNIST original', data_home=\"sample_data\")\n",
        "mnist"
      ],
      "execution_count": 7,
      "outputs": [
        {
          "output_type": "stream",
          "text": [
            "/usr/local/lib/python3.6/dist-packages/sklearn/utils/deprecation.py:85: DeprecationWarning: Function fetch_mldata is deprecated; fetch_mldata was deprecated in version 0.20 and will be removed in version 0.22. Please use fetch_openml.\n",
            "  warnings.warn(msg, category=DeprecationWarning)\n",
            "/usr/local/lib/python3.6/dist-packages/sklearn/utils/deprecation.py:85: DeprecationWarning: Function mldata_filename is deprecated; mldata_filename was deprecated in version 0.20 and will be removed in version 0.22. Please use fetch_openml.\n",
            "  warnings.warn(msg, category=DeprecationWarning)\n"
          ],
          "name": "stderr"
        },
        {
          "output_type": "execute_result",
          "data": {
            "text/plain": [
              "{'COL_NAMES': ['label', 'data'],\n",
              " 'DESCR': 'mldata.org dataset: mnist-original',\n",
              " 'data': array([[0, 0, 0, ..., 0, 0, 0],\n",
              "        [0, 0, 0, ..., 0, 0, 0],\n",
              "        [0, 0, 0, ..., 0, 0, 0],\n",
              "        ...,\n",
              "        [0, 0, 0, ..., 0, 0, 0],\n",
              "        [0, 0, 0, ..., 0, 0, 0],\n",
              "        [0, 0, 0, ..., 0, 0, 0]], dtype=uint8),\n",
              " 'target': array([0., 0., 0., ..., 9., 9., 9.])}"
            ]
          },
          "metadata": {
            "tags": []
          },
          "execution_count": 7
        }
      ]
    },
    {
      "cell_type": "code",
      "metadata": {
        "id": "WMbkEDnENkD_",
        "colab_type": "code",
        "outputId": "dda506b5-1fc5-48bf-816a-5d23453c12da",
        "colab": {
          "base_uri": "https://localhost:8080/",
          "height": 53
        }
      },
      "source": [
        "X, y = mnist[\"data\"], mnist[\"target\"]\n",
        "print(X.shape)\n",
        "print(y.shape)"
      ],
      "execution_count": 3,
      "outputs": [
        {
          "output_type": "stream",
          "text": [
            "(70000, 784)\n",
            "(70000,)\n"
          ],
          "name": "stdout"
        }
      ]
    },
    {
      "cell_type": "markdown",
      "metadata": {
        "id": "2ZaYnTp005jv",
        "colab_type": "text"
      },
      "source": [
        "可知，有70000个样本（图片），每个样本有784个特征值。这是因为每个图片都是28乘28个像素点的图片，每个像素点的值介于0-255之间。  \n",
        "可以通过Matplotlib的imshow函数展示出来"
      ]
    },
    {
      "cell_type": "code",
      "metadata": {
        "id": "lsSSB7nXNkyH",
        "colab_type": "code",
        "outputId": "1d08f530-3dca-4820-d2b1-044efc4d19e3",
        "colab": {
          "base_uri": "https://localhost:8080/",
          "height": 283
        }
      },
      "source": [
        "%matplotlib inline\n",
        "import matplotlib\n",
        "import matplotlib.pyplot as plt\n",
        "\n",
        "some_digit = X[36000]\n",
        "some_digit_image = some_digit.reshape(28,28)\n",
        "plt.imshow(some_digit_image, cmap = matplotlib.cm.binary, interpolation=\"nearest\")\n",
        "plt.axis(\"off\")\n",
        "plt.show()\n",
        "y[36000]"
      ],
      "execution_count": 4,
      "outputs": [
        {
          "output_type": "display_data",
          "data": {
            "image/png": "[encoded data removed]",
            "text/plain": [
              "<Figure size 432x288 with 1 Axes>"
            ]
          },
          "metadata": {
            "tags": []
          }
        },
        {
          "output_type": "execute_result",
          "data": {
            "text/plain": [
              "5.0"
            ]
          },
          "metadata": {
            "tags": []
          },
          "execution_count": 4
        }
      ]
    },
    {
      "cell_type": "markdown",
      "metadata": {
        "id": "xrQFKy9N7F8j",
        "colab_type": "text"
      },
      "source": [
        "# 创建数据集\n",
        "> 这里要备注一下：为什么用这种切分数据集的方式呢。首先我们要知道这种方法是存在的且合理的。\n",
        "- 首先我们要知道切分数据集的目的在于：评估泛化误差（就是用于预测误差）\n",
        "- 其次要知道切分数据集的方法有很多种\n",
        "  - 留出法：就是这种方法，直接将数据且分为两个互斥子集\n",
        "  - 交叉验证法：将数据集分成k个互斥子集，然后每个子集作为测试集，其它子集的并集作为训练集进行测试然后取平均值\n",
        "  - 自助法：即常用的随机取数的方法"
      ]
    },
    {
      "cell_type": "code",
      "metadata": {
        "id": "nouoOYY56-9s",
        "colab_type": "code",
        "colab": {}
      },
      "source": [
        "X_train, X_test, y_train, y_test = X[:60000], X[60000:], y[:60000], y[60000:]"
      ],
      "execution_count": 0,
      "outputs": []
    },
    {
      "cell_type": "code",
      "metadata": {
        "id": "P67kPgQNIi_s",
        "colab_type": "code",
        "colab": {}
      },
      "source": [
        "import numpy as np\n",
        "shuffle_index = np.random.permutation(60000)\n",
        "X_train, y_train = X_train[shuffle_index], y_train[shuffle_index]"
      ],
      "execution_count": 0,
      "outputs": []
    },
    {
      "cell_type": "markdown",
      "metadata": {
        "id": "yG4mvdUC8-Jc",
        "colab_type": "text"
      },
      "source": [
        "# 训练一个二分类器\n",
        "\n",
        "因为数据比较好，跳过了查找关联、数据清洗阶段。直接进行模型选择和评估。\n",
        "\n",
        "先训练一个简单的，只识别数字“9”，修改样本集"
      ]
    },
    {
      "cell_type": "code",
      "metadata": {
        "id": "emPY-5hj9Nxw",
        "colab_type": "code",
        "outputId": "2acd6e68-603f-4282-fd0e-21a900802ecd",
        "colab": {
          "base_uri": "https://localhost:8080/",
          "height": 35
        }
      },
      "source": [
        "y_train_5 = (y_train == 5)\n",
        "y_test_5 = (y_test == 5)\n",
        "print(y_train_5)"
      ],
      "execution_count": 58,
      "outputs": [
        {
          "output_type": "stream",
          "text": [
            "[False False  True ... False False  True]\n"
          ],
          "name": "stdout"
        }
      ]
    },
    {
      "cell_type": "markdown",
      "metadata": {
        "id": "trIVc6_0AOIR",
        "colab_type": "text"
      },
      "source": [
        "## 使用决策树"
      ]
    },
    {
      "cell_type": "code",
      "metadata": {
        "id": "fakrY8tBAThd",
        "colab_type": "code",
        "outputId": "da60171b-24d6-4798-d1cf-417ff49deaef",
        "colab": {
          "base_uri": "https://localhost:8080/",
          "height": 126
        }
      },
      "source": [
        "from sklearn.linear_model import SGDClassifier\n",
        "\n",
        "sgd_clf = SGDClassifier(random_state=42)\n",
        "sgd_clf.fit(X_train, y_train_5)"
      ],
      "execution_count": 59,
      "outputs": [
        {
          "output_type": "execute_result",
          "data": {
            "text/plain": [
              "SGDClassifier(alpha=0.0001, average=False, class_weight=None,\n",
              "              early_stopping=False, epsilon=0.1, eta0=0.0, fit_intercept=True,\n",
              "              l1_ratio=0.15, learning_rate='optimal', loss='hinge',\n",
              "              max_iter=1000, n_iter_no_change=5, n_jobs=None, penalty='l2',\n",
              "              power_t=0.5, random_state=42, shuffle=True, tol=0.001,\n",
              "              validation_fraction=0.1, verbose=0, warm_start=False)"
            ]
          },
          "metadata": {
            "tags": []
          },
          "execution_count": 59
        }
      ]
    },
    {
      "cell_type": "code",
      "metadata": {
        "id": "bM7MDIWCGN-f",
        "colab_type": "code",
        "outputId": "6fc7f7a4-cb0e-402c-e98b-74530ac3f9da",
        "colab": {
          "base_uri": "https://localhost:8080/",
          "height": 35
        }
      },
      "source": [
        "sgd_clf.predict([some_digit]) # some_digit = X[36000]\n",
        "# 这里加中括号的原因是：预测的数组X，要传入类array格式的数据，可以使numpy格式，也可以是list格式。\n",
        "# 应该是一行代表一个样本。而如果直接传入some_digit格式的话，它只是一个样本，默认会把它的每一行作为一个样本，而实际上那只是一个样本中的一行而已。\n",
        "# 最后预测为True，可见对于这一个样本预测的结果是正确的"
      ],
      "execution_count": 74,
      "outputs": [
        {
          "output_type": "execute_result",
          "data": {
            "text/plain": [
              "array([ True])"
            ]
          },
          "metadata": {
            "tags": []
          },
          "execution_count": 74
        }
      ]
    },
    {
      "cell_type": "markdown",
      "metadata": {
        "id": "ae1RCgzOJpJH",
        "colab_type": "text"
      },
      "source": [
        "## 评估性能"
      ]
    },
    {
      "cell_type": "markdown",
      "metadata": {
        "id": "qKR4StooNHJ2",
        "colab_type": "text"
      },
      "source": [
        "评估分类器比评估回归器更加玄学，本节会深入讲解"
      ]
    },
    {
      "cell_type": "markdown",
      "metadata": {
        "id": "ZPAf89q6Mzop",
        "colab_type": "text"
      },
      "source": [
        "### 1.使用交叉验证评估性能"
      ]
    },
    {
      "cell_type": "markdown",
      "metadata": {
        "id": "TctFOt769I8V",
        "colab_type": "text"
      },
      "source": [
        "#### 自己简写cross_val_score函数\n",
        "StratifiedKFol类:分层k折交叉验证器，主要函数为split(),可以返回所有遍历的测试集和训练集的索引"
      ]
    },
    {
      "cell_type": "code",
      "metadata": {
        "id": "cGHeUJ8_L2yF",
        "colab_type": "code",
        "colab": {}
      },
      "source": [
        "from sklearn.model_selection import StratifiedKFold\n",
        "from sklearn.base import clone \n",
        "\n",
        "skfolds = StratifiedKFold(n_splits=3, random_state=42)\n",
        "for train_index, test_index in skfolds.split(X_train, y_train_5):\n",
        "  clone_clf = clone(sgd_clf)\n",
        "  X_train_fold = X_train[train_index]\n",
        "  y_train_fold = (y_train_5[train_index])\n",
        "  X_test_fold = X_test[test_index]\n",
        "  y_test_fold = (y_test_5[test_index])\n",
        "\n",
        "  clone_clf.fit(X_train_fold, y_train_fold)\n",
        "  y_pred = clone_clf.pridict(X_test_fold)\n",
        "  n_correct = sum(y_pred == y_test_5)\n",
        "  print(n_correct/len(y_pred))"
      ],
      "execution_count": 0,
      "outputs": []
    },
    {
      "cell_type": "markdown",
      "metadata": {
        "id": "8cSvJd719KRt",
        "colab_type": "text"
      },
      "source": [
        "#### 使用官方函数正式评估"
      ]
    },
    {
      "cell_type": "code",
      "metadata": {
        "id": "G70eMONN9VYl",
        "colab_type": "code",
        "colab": {
          "base_uri": "https://localhost:8080/",
          "height": 35
        },
        "outputId": "668afa27-eaae-4289-c2c0-3a542544afc5"
      },
      "source": [
        "from sklearn.model_selection import cross_val_score\n",
        "\n",
        "cross_val_score(sgd_clf, X_train, y_train_5, cv=3, scoring=\"accuracy\")"
      ],
      "execution_count": 77,
      "outputs": [
        {
          "output_type": "execute_result",
          "data": {
            "text/plain": [
              "array([0.96595, 0.9486 , 0.95335])"
            ]
          },
          "metadata": {
            "tags": []
          },
          "execution_count": 77
        }
      ]
    },
    {
      "cell_type": "markdown",
      "metadata": {
        "id": "L1xL9C6y-sex",
        "colab_type": "text"
      },
      "source": [
        "虽然有96%的准确度，但是这个数据集只有10%的数据是5，所以如果有一个预测期全部预测为否也会有90%的准确度。  \n",
        "**这也就是为什么精度常常不是很好地性能度量指标**"
      ]
    },
    {
      "cell_type": "markdown",
      "metadata": {
        "id": "hNv6L1sK_bUF",
        "colab_type": "text"
      },
      "source": [
        "### 2.混淆矩阵（更适合分类器）\n",
        "关于混淆矩阵更详细的信息见西瓜书2.3.1\n",
        "大体思路是：输出类别A被分类成类别 B 的次数。举个例子，为了知道分类器将 5 误分为 3 的次数，你需要查看混淆矩阵的第五行第三列。\n",
        "\n",
        "> ps:记住，只有当你处于项目的尾声，当你准备上线一个分类器的时候，你才应该使用测试集"
      ]
    },
    {
      "cell_type": "markdown",
      "metadata": {
        "id": "_xGF6SagFLpp",
        "colab_type": "text"
      },
      "source": [
        "- 第一步先获取预测值\n",
        "- 第二步使用混淆矩阵，输入真实值和预测值"
      ]
    },
    {
      "cell_type": "code",
      "metadata": {
        "id": "BeBjLY8vEBb5",
        "colab_type": "code",
        "colab": {}
      },
      "source": [
        "from sklearn.model_selection import cross_val_predict # 为每个输入数据点生成交叉验证的估计值\n",
        "y_train_pred = cross_val_predict(sgd_clf, X_train, y_train_5, cv=3)"
      ],
      "execution_count": 0,
      "outputs": []
    },
    {
      "cell_type": "code",
      "metadata": {
        "id": "SlmGdVRqGH7a",
        "colab_type": "code",
        "colab": {
          "base_uri": "https://localhost:8080/",
          "height": 53
        },
        "outputId": "9957ab06-6b76-43d7-94b0-d96634243406"
      },
      "source": [
        "from sklearn.metrics import confusion_matrix\n",
        "\n",
        "confusion_matrix(y_train_5, y_train_pred)"
      ],
      "execution_count": 82,
      "outputs": [
        {
          "output_type": "execute_result",
          "data": {
            "text/plain": [
              "array([[53428,  1151],\n",
              "       [ 1491,  3930]])"
            ]
          },
          "metadata": {
            "tags": []
          },
          "execution_count": 82
        }
      ]
    },
    {
      "cell_type": "markdown",
      "metadata": {
        "id": "mMVS1HEuIVOr",
        "colab_type": "text"
      },
      "source": [
        "### 准确率和召回率（查准率和查全率）\n",
        "是混淆矩阵的延伸，混淆矩阵中指标的比值  \n"
      ]
    },
    {
      "cell_type": "code",
      "metadata": {
        "id": "GzyMiuYtI6vp",
        "colab_type": "code",
        "colab": {
          "base_uri": "https://localhost:8080/",
          "height": 210
        },
        "outputId": "61752bfe-179a-43a3-88b2-beafce4e9937"
      },
      "source": [
        "from sklearn.metrics import precision_score, recall_score\n",
        "\n",
        "precision_score(y_train_5, y_train_pred)"
      ],
      "execution_count": 1,
      "outputs": [
        {
          "output_type": "error",
          "ename": "NameError",
          "evalue": "ignored",
          "traceback": [
            "\u001b[0;31m---------------------------------------------------------------------------\u001b[0m",
            "\u001b[0;31mNameError\u001b[0m                                 Traceback (most recent call last)",
            "\u001b[0;32m<ipython-input-1-5549e772b8dd>\u001b[0m in \u001b[0;36m<module>\u001b[0;34m()\u001b[0m\n\u001b[1;32m      1\u001b[0m \u001b[0;32mfrom\u001b[0m \u001b[0msklearn\u001b[0m\u001b[0;34m.\u001b[0m\u001b[0mmetrics\u001b[0m \u001b[0;32mimport\u001b[0m \u001b[0mprecision_score\u001b[0m\u001b[0;34m,\u001b[0m \u001b[0mrecall_score\u001b[0m\u001b[0;34m\u001b[0m\u001b[0;34m\u001b[0m\u001b[0m\n\u001b[1;32m      2\u001b[0m \u001b[0;34m\u001b[0m\u001b[0m\n\u001b[0;32m----> 3\u001b[0;31m \u001b[0mprecision_score\u001b[0m\u001b[0;34m(\u001b[0m\u001b[0my_train_5\u001b[0m\u001b[0;34m,\u001b[0m \u001b[0my_train_pred\u001b[0m\u001b[0;34m)\u001b[0m\u001b[0;34m\u001b[0m\u001b[0;34m\u001b[0m\u001b[0m\n\u001b[0m",
            "\u001b[0;31mNameError\u001b[0m: name 'y_train_5' is not defined"
          ]
        }
      ]
    },
    {
      "cell_type": "code",
      "metadata": {
        "id": "0QV_pStOhE02",
        "colab_type": "code",
        "colab": {
          "base_uri": "https://localhost:8080/",
          "height": 173
        },
        "outputId": "f7ef4d8d-9d43-4a00-e554-1b5118d47436"
      },
      "source": [
        "recall_score(y_train_5, y_train_pred)"
      ],
      "execution_count": 2,
      "outputs": [
        {
          "output_type": "error",
          "ename": "NameError",
          "evalue": "ignored",
          "traceback": [
            "\u001b[0;31m---------------------------------------------------------------------------\u001b[0m",
            "\u001b[0;31mNameError\u001b[0m                                 Traceback (most recent call last)",
            "\u001b[0;32m<ipython-input-2-3f093a4f73e6>\u001b[0m in \u001b[0;36m<module>\u001b[0;34m()\u001b[0m\n\u001b[0;32m----> 1\u001b[0;31m \u001b[0mrecall_score\u001b[0m\u001b[0;34m(\u001b[0m\u001b[0my_train_5\u001b[0m\u001b[0;34m,\u001b[0m \u001b[0my_train_pred\u001b[0m\u001b[0;34m)\u001b[0m\u001b[0;34m\u001b[0m\u001b[0;34m\u001b[0m\u001b[0m\n\u001b[0m",
            "\u001b[0;31mNameError\u001b[0m: name 'y_train_5' is not defined"
          ]
        }
      ]
    },
    {
      "cell_type": "markdown",
      "metadata": {
        "id": "EZpCOKwegyr2",
        "colab_type": "text"
      },
      "source": [
        "单一准确率和召回率通常没什么用，需要结合来看。一般来说，准确率较高时，召回率较低。召回率较高时，准确率较低。\n",
        "- 准曲率和召回率"
      ]
    }
  ]
}